{
 "cells": [
  {
   "cell_type": "code",
   "execution_count": 1,
   "metadata": {},
   "outputs": [
    {
     "data": {
      "text/html": [
       "<div>\n",
       "<style scoped>\n",
       "    .dataframe tbody tr th:only-of-type {\n",
       "        vertical-align: middle;\n",
       "    }\n",
       "\n",
       "    .dataframe tbody tr th {\n",
       "        vertical-align: top;\n",
       "    }\n",
       "\n",
       "    .dataframe thead th {\n",
       "        text-align: right;\n",
       "    }\n",
       "</style>\n",
       "<table border=\"1\" class=\"dataframe\">\n",
       "  <thead>\n",
       "    <tr style=\"text-align: right;\">\n",
       "      <th></th>\n",
       "      <th>REACTANT</th>\n",
       "      <th>REAGENT</th>\n",
       "      <th>PRODUCT</th>\n",
       "      <th>YIELD</th>\n",
       "    </tr>\n",
       "  </thead>\n",
       "  <tbody>\n",
       "    <tr>\n",
       "      <th>0</th>\n",
       "      <td>FC(F)(F)c1ccc(Cl)cc1.Cc1ccc(N)cc1</td>\n",
       "      <td>CC(C)c1cc(C(C)C)c(-c2ccccc2P(C2CCCCC2)(C2CCCCC...</td>\n",
       "      <td>Cc1ccc(Nc2ccc(C(F)(F)F)cc2)cc1</td>\n",
       "      <td>3.606677</td>\n",
       "    </tr>\n",
       "    <tr>\n",
       "      <th>1</th>\n",
       "      <td>FC(F)(F)c1ccc(Br)cc1.Cc1ccc(N)cc1</td>\n",
       "      <td>CC(C)c1cc(C(C)C)c(-c2ccccc2P(C2CCCCC2)(C2CCCCC...</td>\n",
       "      <td>Cc1ccc(Nc2ccc(C(F)(F)F)cc2)cc1</td>\n",
       "      <td>35.078662</td>\n",
       "    </tr>\n",
       "    <tr>\n",
       "      <th>2</th>\n",
       "      <td>FC(F)(F)c1ccc(I)cc1.Cc1ccc(N)cc1</td>\n",
       "      <td>CC(C)c1cc(C(C)C)c(-c2ccccc2P(C2CCCCC2)(C2CCCCC...</td>\n",
       "      <td>Cc1ccc(Nc2ccc(C(F)(F)F)cc2)cc1</td>\n",
       "      <td>43.318146</td>\n",
       "    </tr>\n",
       "    <tr>\n",
       "      <th>3</th>\n",
       "      <td>COc1ccc(Cl)cc1.Cc1ccc(N)cc1</td>\n",
       "      <td>CC(C)c1cc(C(C)C)c(-c2ccccc2P(C2CCCCC2)(C2CCCCC...</td>\n",
       "      <td>COc1ccc(Nc2ccc(C)cc2)cc1</td>\n",
       "      <td>0.000000</td>\n",
       "    </tr>\n",
       "    <tr>\n",
       "      <th>4</th>\n",
       "      <td>COc1ccc(Br)cc1.Cc1ccc(N)cc1</td>\n",
       "      <td>CC(C)c1cc(C(C)C)c(-c2ccccc2P(C2CCCCC2)(C2CCCCC...</td>\n",
       "      <td>COc1ccc(Nc2ccc(C)cc2)cc1</td>\n",
       "      <td>29.298178</td>\n",
       "    </tr>\n",
       "    <tr>\n",
       "      <th>...</th>\n",
       "      <td>...</td>\n",
       "      <td>...</td>\n",
       "      <td>...</td>\n",
       "      <td>...</td>\n",
       "    </tr>\n",
       "    <tr>\n",
       "      <th>3052</th>\n",
       "      <td>Brc1ccccn1.Cc1ccc(N)cc1</td>\n",
       "      <td>COc1ccc(OC)c(P(C23CC4CC(CC(C4)C2)C3)(C23CC4CC(...</td>\n",
       "      <td>Cc1ccc(Nc2ccccn2)cc1</td>\n",
       "      <td>39.714422</td>\n",
       "    </tr>\n",
       "    <tr>\n",
       "      <th>3053</th>\n",
       "      <td>Ic1ccccn1.Cc1ccc(N)cc1</td>\n",
       "      <td>COc1ccc(OC)c(P(C23CC4CC(CC(C4)C2)C3)(C23CC4CC(...</td>\n",
       "      <td>Cc1ccc(Nc2ccccn2)cc1</td>\n",
       "      <td>83.496024</td>\n",
       "    </tr>\n",
       "    <tr>\n",
       "      <th>3054</th>\n",
       "      <td>Clc1cccnc1.Cc1ccc(N)cc1</td>\n",
       "      <td>COc1ccc(OC)c(P(C23CC4CC(CC(C4)C2)C3)(C23CC4CC(...</td>\n",
       "      <td>Cc1ccc(Nc2cccnc2)cc1</td>\n",
       "      <td>0.000000</td>\n",
       "    </tr>\n",
       "    <tr>\n",
       "      <th>3055</th>\n",
       "      <td>Brc1cccnc1.Cc1ccc(N)cc1</td>\n",
       "      <td>COc1ccc(OC)c(P(C23CC4CC(CC(C4)C2)C3)(C23CC4CC(...</td>\n",
       "      <td>Cc1ccc(Nc2cccnc2)cc1</td>\n",
       "      <td>27.156968</td>\n",
       "    </tr>\n",
       "    <tr>\n",
       "      <th>3056</th>\n",
       "      <td>Ic1cccnc1.Cc1ccc(N)cc1</td>\n",
       "      <td>COc1ccc(OC)c(P(C23CC4CC(CC(C4)C2)C3)(C23CC4CC(...</td>\n",
       "      <td>Cc1ccc(Nc2cccnc2)cc1</td>\n",
       "      <td>67.351830</td>\n",
       "    </tr>\n",
       "  </tbody>\n",
       "</table>\n",
       "<p>3057 rows × 4 columns</p>\n",
       "</div>"
      ],
      "text/plain": [
       "                               REACTANT  \\\n",
       "0     FC(F)(F)c1ccc(Cl)cc1.Cc1ccc(N)cc1   \n",
       "1     FC(F)(F)c1ccc(Br)cc1.Cc1ccc(N)cc1   \n",
       "2      FC(F)(F)c1ccc(I)cc1.Cc1ccc(N)cc1   \n",
       "3           COc1ccc(Cl)cc1.Cc1ccc(N)cc1   \n",
       "4           COc1ccc(Br)cc1.Cc1ccc(N)cc1   \n",
       "...                                 ...   \n",
       "3052            Brc1ccccn1.Cc1ccc(N)cc1   \n",
       "3053             Ic1ccccn1.Cc1ccc(N)cc1   \n",
       "3054            Clc1cccnc1.Cc1ccc(N)cc1   \n",
       "3055            Brc1cccnc1.Cc1ccc(N)cc1   \n",
       "3056             Ic1cccnc1.Cc1ccc(N)cc1   \n",
       "\n",
       "                                                REAGENT  \\\n",
       "0     CC(C)c1cc(C(C)C)c(-c2ccccc2P(C2CCCCC2)(C2CCCCC...   \n",
       "1     CC(C)c1cc(C(C)C)c(-c2ccccc2P(C2CCCCC2)(C2CCCCC...   \n",
       "2     CC(C)c1cc(C(C)C)c(-c2ccccc2P(C2CCCCC2)(C2CCCCC...   \n",
       "3     CC(C)c1cc(C(C)C)c(-c2ccccc2P(C2CCCCC2)(C2CCCCC...   \n",
       "4     CC(C)c1cc(C(C)C)c(-c2ccccc2P(C2CCCCC2)(C2CCCCC...   \n",
       "...                                                 ...   \n",
       "3052  COc1ccc(OC)c(P(C23CC4CC(CC(C4)C2)C3)(C23CC4CC(...   \n",
       "3053  COc1ccc(OC)c(P(C23CC4CC(CC(C4)C2)C3)(C23CC4CC(...   \n",
       "3054  COc1ccc(OC)c(P(C23CC4CC(CC(C4)C2)C3)(C23CC4CC(...   \n",
       "3055  COc1ccc(OC)c(P(C23CC4CC(CC(C4)C2)C3)(C23CC4CC(...   \n",
       "3056  COc1ccc(OC)c(P(C23CC4CC(CC(C4)C2)C3)(C23CC4CC(...   \n",
       "\n",
       "                             PRODUCT      YIELD  \n",
       "0     Cc1ccc(Nc2ccc(C(F)(F)F)cc2)cc1   3.606677  \n",
       "1     Cc1ccc(Nc2ccc(C(F)(F)F)cc2)cc1  35.078662  \n",
       "2     Cc1ccc(Nc2ccc(C(F)(F)F)cc2)cc1  43.318146  \n",
       "3           COc1ccc(Nc2ccc(C)cc2)cc1   0.000000  \n",
       "4           COc1ccc(Nc2ccc(C)cc2)cc1  29.298178  \n",
       "...                              ...        ...  \n",
       "3052            Cc1ccc(Nc2ccccn2)cc1  39.714422  \n",
       "3053            Cc1ccc(Nc2ccccn2)cc1  83.496024  \n",
       "3054            Cc1ccc(Nc2cccnc2)cc1   0.000000  \n",
       "3055            Cc1ccc(Nc2cccnc2)cc1  27.156968  \n",
       "3056            Cc1ccc(Nc2cccnc2)cc1  67.351830  \n",
       "\n",
       "[3057 rows x 4 columns]"
      ]
     },
     "execution_count": 1,
     "metadata": {},
     "output_type": "execute_result"
    }
   ],
   "source": [
    "import pandas as pd\n",
    "df = pd.read_csv(\"/home/acf15718oa/ReactionT5_neword/data/C_N_yield/MFF_Test1/train.csv\")\n",
    "df"
   ]
  },
  {
   "cell_type": "code",
   "execution_count": 2,
   "metadata": {},
   "outputs": [
    {
     "data": {
      "text/plain": [
       "<Axes: >"
      ]
     },
     "execution_count": 2,
     "metadata": {},
     "output_type": "execute_result"
    },
    {
     "data": {
      "image/png": "[encoded data removed]",
      "text/plain": [
       "<Figure size 640x480 with 1 Axes>"
      ]
     },
     "metadata": {},
     "output_type": "display_data"
    }
   ],
   "source": [
    "df[\"YIELD\"].hist(bins=50)"
   ]
  }
 ],
 "metadata": {
  "kernelspec": {
   "display_name": "Python 3 (ipykernel)",
   "language": "python",
   "name": "python3"
  },
  "language_info": {
   "codemirror_mode": {
    "name": "ipython",
    "version": 3
   },
   "file_extension": ".py",
   "mimetype": "text/x-python",
   "name": "python",
   "nbconvert_exporter": "python",
   "pygments_lexer": "ipython3",
   "version": "3.11.9"
  }
 },
 "nbformat": 4,
 "nbformat_minor": 2
}
