{
 "cells": [
  {
   "cell_type": "code",
   "execution_count": 53,
   "metadata": {},
   "outputs": [
    {
     "data": {
      "text/plain": [
       "tuple"
      ]
     },
     "execution_count": 53,
     "metadata": {},
     "output_type": "execute_result"
    }
   ],
   "source": [
    "import pickle\n",
    "file = pickle.load(open(\"/home/sagawa/reaction_augmentation/DirectMultiStep/data/processed/all_dataset_nperms=1_nsms=1_val=0.05.pkl\", \"rb\"))\n",
    "type(file)"
   ]
  },
  {
   "cell_type": "code",
   "execution_count": 54,
   "metadata": {},
   "outputs": [
    {
     "data": {
      "text/plain": [
       "('O=C(Nc1c[nH]nc1-c1nc2ccccc2[nH]1)c1c(F)cccc1F',\n",
       " 'O=[N+]([O-])c1c[nH]nc1-c1nc2ccccc2[nH]1',\n",
       " \"{'smiles':'O=C(Nc1c[nH]nc1-c1nc2ccccc2[nH]1)c1c(F)cccc1F','children':[{'smiles':'Nc1c[nH]nc1-c1nc2ccccc2[nH]1','children':[{'smiles':'O=[N+]([O-])c1c[nH]nc1-c1nc2ccccc2[nH]1'}]},{'smiles':'O=C(O)c1c(F)cccc1F'}]}\",\n",
       " 2)"
      ]
     },
     "execution_count": 54,
     "metadata": {},
     "output_type": "execute_result"
    }
   ],
   "source": [
    "file[0][0], file[1][0], file[2][0], file[3][0]"
   ]
  },
  {
   "cell_type": "code",
   "execution_count": 51,
   "metadata": {},
   "outputs": [
    {
     "name": "stdout",
     "output_type": "stream",
     "text": [
      "('COC(=O)c1cc2c(cc1[N+](=O)[O-])OCCO2', \"{'smiles':'COC(=O)c1cc2c(cc1[N+](=O)[O-])OCCO2','children':[{'smiles':'COC(=O)c1ccc2c(c1)OCCO2','children':[{'smiles':'BrCCBr'},{'smiles':'COC(=O)c1ccc(O)c(O)c1'}]},{'smiles':'O=[N+]([O-])O'}]}\", 2)\n",
      "('CNC(=O)CCC(=O)c1ccc(OCC(O)CNC(C)C)cc1', \"{'smiles':'CNC(=O)CCC(=O)c1ccc(OCC(O)CNC(C)C)cc1','children':[{'smiles':'CC(C)N'},{'smiles':'CNC(=O)CCC(=O)c1ccc(OCC2CO2)cc1','children':[{'smiles':'CNC(=O)CCC(=O)c1ccc(O)cc1'},{'smiles':'ClCC1CO1'}]}]}\", 2)\n",
      "('COC(=O)CCC(=O)c1ccccc1OCC(O)CNC(C)C', \"{'smiles':'COC(=O)CCC(=O)c1ccccc1OCC(O)CNC(C)C','children':[{'smiles':'CC(C)N'},{'smiles':'COC(=O)CCC(=O)c1ccccc1OCC1CO1','children':[{'smiles':'BrCC1CO1'},{'smiles':'COC(=O)CCC(=O)c1ccccc1O','children':[{'smiles':'CO'},{'smiles':'O=C(O)CCC(=O)c1ccccc1O'}]}]}]}\", 3)\n",
      "('COC(=O)CCC(=O)c1cc(NC(C)=O)ccc1OCC1CO1', \"{'smiles':'COC(=O)CCC(=O)c1cc(NC(C)=O)ccc1OCC1CO1','children':[{'smiles':'BrCC1CO1'},{'smiles':'COC(=O)CCC(=O)c1cc(NC(C)=O)ccc1O','children':[{'smiles':'CC(=O)Nc1ccc(O)c(C(=O)CCC(=O)O)c1','children':[{'smiles':'CC(=O)OC(C)=O'},{'smiles':'Nc1ccc(O)c(C(=O)CCC(=O)O)c1','children':[{'smiles':'O=C(O)CCC(=O)c1cc([N+](=O)[O-])ccc1O'}]}]},{'smiles':'CO'}]}]}\", 4)\n",
      "('N#Cc1ccc(C(=O)CCC(=O)O)cc1N', \"{'smiles':'N#Cc1ccc(C(=O)CCC(=O)O)cc1N','children':[{'smiles':'N#Cc1ccc(C(=O)CCC(=O)O)cc1[N+](=O)[O-]','children':[{'smiles':'C#N'},{'smiles':'Nc1ccc(C(=O)CCC(=O)O)cc1[N+](=O)[O-]'}]}]}\", 2)\n",
      "('CCN1CCCCC1CCc1ccccc1NC(=O)c1ccc(OC)cc1', \"{'smiles':'CCN1CCCCC1CCc1ccccc1NC(=O)c1ccc(OC)cc1','children':[{'smiles':'CCN1CCCCC1CCc1ccccc1N','children':[{'smiles':'CCN1CCCCC1CCc1ccccc1NC=O'}]},{'smiles':'COc1ccc(C(=O)Cl)cc1'}]}\", 2)\n",
      "('CCN1CCCCC1CCc1ccccc1NC(=O)C=Cc1ccccc1', \"{'smiles':'CCN1CCCCC1CCc1ccccc1NC(=O)C=Cc1ccccc1','children':[{'smiles':'CCN1CCCCC1CCc1ccccc1N','children':[{'smiles':'CCN1CCCCC1CCc1ccccc1NC=O'}]},{'smiles':'O=C(Cl)C=Cc1ccccc1'}]}\", 2)\n",
      "('ClCc1ccc2c(c1)Cc1cccnc1O2', \"{'smiles':'ClCc1ccc2c(c1)Cc1cccnc1O2','children':[{'smiles':'C=O'},{'smiles':'Cl'},{'smiles':'c1ccc2c(c1)Cc1cccnc1O2','children':[{'smiles':'OC1c2ccccc2Oc2ncccc21'}]}]}\", 2)\n",
      "('CC(=O)c1ccc2c(c1)Cc1cccnc1O2', \"{'smiles':'CC(=O)c1ccc2c(c1)Cc1cccnc1O2','children':[{'smiles':'CC(=O)Cl'},{'smiles':'c1ccc2c(c1)Cc1cccnc1O2','children':[{'smiles':'OC1c2ccccc2Oc2ncccc21'}]}]}\", 2)\n",
      "('CC1(C)c2cc(C(=O)O)ccc2Oc2ncccc21', \"{'smiles':'CC1(C)c2cc(C(=O)O)ccc2Oc2ncccc21','children':[{'smiles':'CC(=O)c1ccc2c(c1)C(C)(C)c1cccnc1O2','children':[{'smiles':'CC(=O)Cl'},{'smiles':'CC1(C)c2ccccc2Oc2ncccc21'}]},{'smiles':'O'}]}\", 2)\n",
      "('CCOC(=O)c1ccc2oc3ncccc3c(=O)c2c1', \"{'smiles':'CCOC(=O)c1ccc2oc3ncccc3c(=O)c2c1','children':[{'smiles':'CCO'},{'smiles':'O=C(O)c1ccc2oc3ncccc3c(=O)c2c1','children':[{'smiles':'O=C(O)c1ccc(Oc2ncccc2C(=O)O)cc1'}]}]}\", 2)\n"
     ]
    }
   ],
   "source": [
    "counter = 0\n",
    "for i, values in enumerate(zip(*dic.values())):\n",
    "    print(values)\n",
    "    counter += 1\n",
    "    if counter > 10:\n",
    "        break"
   ]
  },
  {
   "cell_type": "code",
   "execution_count": null,
   "metadata": {},
   "outputs": [],
   "source": []
  },
  {
   "cell_type": "code",
   "execution_count": 41,
   "metadata": {},
   "outputs": [
    {
     "data": {
      "text/plain": [
       "814296"
      ]
     },
     "execution_count": 41,
     "metadata": {},
     "output_type": "execute_result"
    }
   ],
   "source": [
    "len(file[1])"
   ]
  },
  {
   "cell_type": "code",
   "execution_count": 39,
   "metadata": {},
   "outputs": [
    {
     "data": {
      "text/plain": [
       "(['CNC(=O)CCC(=O)c1ccc(OCC(O)CNC(C)C)cc1',\n",
       "  'COC(=O)c1cc2c(cc1[N+](=O)[O-])OCCO2'],\n",
       " ['CC(C)N', 'BrCCBr'],\n",
       " [\"{'smiles':'CNC(=O)CCC(=O)c1ccc(OCC(O)CNC(C)C)cc1','children':[{'smiles':'CC(C)N'},{'smiles':'CNC(=O)CCC(=O)c1ccc(OCC2CO2)cc1','children':[{'smiles':'CNC(=O)CCC(=O)c1ccc(O)cc1'},{'smiles':'ClCC1CO1'}]}]}\",\n",
       "  \"{'smiles':'COC(=O)c1cc2c(cc1[N+](=O)[O-])OCCO2','children':[{'smiles':'COC(=O)c1ccc2c(c1)OCCO2','children':[{'smiles':'BrCCBr'},{'smiles':'COC(=O)c1ccc(O)c(O)c1'}]},{'smiles':'O=[N+]([O-])O'}]}\"],\n",
       " [2, 2])"
      ]
     },
     "execution_count": 39,
     "metadata": {},
     "output_type": "execute_result"
    }
   ],
   "source": [
    "file"
   ]
  },
  {
   "cell_type": "code",
   "execution_count": null,
   "metadata": {},
   "outputs": [
    {
     "data": {
      "text/plain": [
       "torch.Size([1, 12, 1, 1])"
      ]
     },
     "execution_count": 26,
     "metadata": {},
     "output_type": "execute_result"
    }
   ],
   "source": []
  },
  {
   "cell_type": "code",
   "execution_count": 15,
   "metadata": {},
   "outputs": [
    {
     "data": {
      "image/png": "[encoded data removed]",
      "text/plain": [
       "<Figure size 640x480 with 1 Axes>"
      ]
     },
     "metadata": {},
     "output_type": "display_data"
    }
   ],
   "source": [
    "# visualize heatmap of attention\n",
    "import matplotlib.pyplot as plt\n",
    "import numpy as np\n",
    "values = output[\"encoder_attentions\"][0][0][0].detach().numpy()\n",
    "plt.imshow(values, cmap='hot', interpolation='nearest')\n",
    "plt.show()"
   ]
  },
  {
   "cell_type": "code",
   "execution_count": 1,
   "metadata": {},
   "outputs": [
    {
     "data": {
      "text/html": [
       "<div>\n",
       "<style scoped>\n",
       "    .dataframe tbody tr th:only-of-type {\n",
       "        vertical-align: middle;\n",
       "    }\n",
       "\n",
       "    .dataframe tbody tr th {\n",
       "        vertical-align: top;\n",
       "    }\n",
       "\n",
       "    .dataframe thead th {\n",
       "        text-align: right;\n",
       "    }\n",
       "</style>\n",
       "<table border=\"1\" class=\"dataframe\">\n",
       "  <thead>\n",
       "    <tr style=\"text-align: right;\">\n",
       "      <th></th>\n",
       "      <th>Unnamed: 0</th>\n",
       "      <th>id</th>\n",
       "      <th>REACTANT</th>\n",
       "      <th>PRODUCT</th>\n",
       "      <th>REAGENT</th>\n",
       "      <th>SOLVENT</th>\n",
       "      <th>CATALYST</th>\n",
       "      <th>YIELD</th>\n",
       "    </tr>\n",
       "  </thead>\n",
       "  <tbody>\n",
       "    <tr>\n",
       "      <th>0</th>\n",
       "      <td>0</td>\n",
       "      <td>ord-c2af606677024e008e8fb05d402e9b3b</td>\n",
       "      <td>B1C2CCCC1CCC2.C=CC1CCN(C(=O)OC(C)(C)C)C1.ClCCl...</td>\n",
       "      <td>CC(C)(C)OC(=O)N1CCC(CCc2ccc3c(c2)OC(F)(F)O3)C1</td>\n",
       "      <td>Cl[Pd]Cl.[Fe+2].c1ccc(P(c2ccccc2)[c-]2cccc2)cc...</td>\n",
       "      <td>CN(C)C=O.O.O</td>\n",
       "      <td>Cl[Pd]Cl.[Fe+2].c1ccc(P(c2ccccc2)[c-]2cccc2)cc...</td>\n",
       "      <td>0.98</td>\n",
       "    </tr>\n",
       "    <tr>\n",
       "      <th>1</th>\n",
       "      <td>1</td>\n",
       "      <td>ord-96c71ebfff6c4ee8bb6a5aa2960c2ba3</td>\n",
       "      <td>Brc1cncc(I)c1.C#C[Si](C)(C)C</td>\n",
       "      <td>C[Si](C)(C)C#Cc1cncc(Br)c1</td>\n",
       "      <td>Cl[Pd](Cl)([P](c1ccccc1)(c1ccccc1)c1ccccc1)[P]...</td>\n",
       "      <td>CC#N.CCN(CC)CC</td>\n",
       "      <td>Cl[Pd](Cl)([P](c1ccccc1)(c1ccccc1)c1ccccc1)[P]...</td>\n",
       "      <td>0.99</td>\n",
       "    </tr>\n",
       "    <tr>\n",
       "      <th>2</th>\n",
       "      <td>2</td>\n",
       "      <td>ord-6e64400b2c7a4e9a8789b9e79cfcee25</td>\n",
       "      <td>Brc1ccc(-c2nc3ccccc3o2)nc1.CC1(C)OB(c2ccc(-c3c...</td>\n",
       "      <td>c1ccc(N(c2ccccc2)c2ccc(-c3ccc(-c4ccc(-c5nc6ccc...</td>\n",
       "      <td>c1ccc([P](c2ccccc2)(c2ccccc2)[Pd]([P](c2ccccc2...</td>\n",
       "      <td>C1CCOC1.CC(C)=O.ClCCl.ClCCl</td>\n",
       "      <td>c1ccc([P](c2ccccc2)(c2ccccc2)[Pd]([P](c2ccccc2...</td>\n",
       "      <td>0.77</td>\n",
       "    </tr>\n",
       "    <tr>\n",
       "      <th>3</th>\n",
       "      <td>3</td>\n",
       "      <td>ord-b77f09a6bfcb449c8320355cea96234a</td>\n",
       "      <td>Brc1ccc2ncccc2c1.Cc1ccc2c(cnn2C2CCCCO2)c1[B-](...</td>\n",
       "      <td>Cc1ccc2c(cnn2C2CCCCO2)c1-c1ccc2ncccc2c1</td>\n",
       "      <td>C1CCC(P(C2CCCCC2)C2CCCCC2)CC1.CC(=O)[O-].CC(=O...</td>\n",
       "      <td>C1CCOC1.CC#N.CCc1cc(CC)cc(CC)c1.CCc1cccc(CC)c1...</td>\n",
       "      <td>C1CCC(P(C2CCCCC2)C2CCCCC2)CC1.CC(=O)[O-].CC(=O...</td>\n",
       "      <td>0.13</td>\n",
       "    </tr>\n",
       "    <tr>\n",
       "      <th>4</th>\n",
       "      <td>4</td>\n",
       "      <td>ord-a78f05158222489f8516262e16c2e1d4</td>\n",
       "      <td>CC=CCOc1ccc(Cl)cc1I.CCCC[NH3+].O=C([O-])[O-].O...</td>\n",
       "      <td>CCc1coc2ccc(Cl)cc12</td>\n",
       "      <td>CC(=O)[O-].CC(=O)[O-].[Pd+2]</td>\n",
       "      <td>CN(C)C=O</td>\n",
       "      <td>CC(=O)[O-].CC(=O)[O-].[Pd+2]</td>\n",
       "      <td>0.60</td>\n",
       "    </tr>\n",
       "    <tr>\n",
       "      <th>...</th>\n",
       "      <td>...</td>\n",
       "      <td>...</td>\n",
       "      <td>...</td>\n",
       "      <td>...</td>\n",
       "      <td>...</td>\n",
       "      <td>...</td>\n",
       "      <td>...</td>\n",
       "      <td>...</td>\n",
       "    </tr>\n",
       "    <tr>\n",
       "      <th>107</th>\n",
       "      <td>107</td>\n",
       "      <td>ord-3cac9ca75bf34bae9d8605b4ace7a1c5</td>\n",
       "      <td>CC(C)(C)[O-].CC(C)N1CCNCC1.COc1cc(Br)cc(C2OCCC...</td>\n",
       "      <td>COc1cc(C=O)cc(N2CCN(C(C)C)CC2)c1</td>\n",
       "      <td>O=C(/C=C/c1ccccc1)/C=C/c1ccccc1.O=C(/C=C/c1ccc...</td>\n",
       "      <td>Cc1ccccc1</td>\n",
       "      <td>O=C(/C=C/c1ccccc1)/C=C/c1ccccc1.O=C(/C=C/c1ccc...</td>\n",
       "      <td>0.27</td>\n",
       "    </tr>\n",
       "    <tr>\n",
       "      <th>108</th>\n",
       "      <td>108</td>\n",
       "      <td>ord-b146ca9198c348cca63bcac068757137</td>\n",
       "      <td>COCOc1cc(OC)ccc1I.O=C1CCC(=O)N1Br</td>\n",
       "      <td>COCOc1cc(OC)c(Br)cc1I</td>\n",
       "      <td>Cc1c(C(C)(C)C)cc(O)cc1C(C)(C)C</td>\n",
       "      <td>CC#N</td>\n",
       "      <td>Cc1c(C(C)(C)C)cc(O)cc1C(C)(C)C</td>\n",
       "      <td>0.76</td>\n",
       "    </tr>\n",
       "    <tr>\n",
       "      <th>109</th>\n",
       "      <td>109</td>\n",
       "      <td>ord-50c61014210e4234b91331351ce47941</td>\n",
       "      <td>CCOCOCC.OCC(Cl)CCl</td>\n",
       "      <td>CCOCOCC(Cl)CCl</td>\n",
       "      <td>Cc1ccccc1S(=O)(=O)O.O</td>\n",
       "      <td>NaN</td>\n",
       "      <td>Cc1ccccc1S(=O)(=O)O.O</td>\n",
       "      <td>0.69</td>\n",
       "    </tr>\n",
       "    <tr>\n",
       "      <th>110</th>\n",
       "      <td>110</td>\n",
       "      <td>ord-f252f2d4246c4459989daae36b6c6aae</td>\n",
       "      <td>CC1(C)OB(c2ccnc(N3CCOCC3)c2)OC1(C)C.Cc1nc(NC(=...</td>\n",
       "      <td>Cc1nc(NC(=O)NC(=O)C(C)C)ccc1Oc1ccnc(-c2ccnc(N3...</td>\n",
       "      <td>c1ccc([P](c2ccccc2)(c2ccccc2)[Pd]([P](c2ccccc2...</td>\n",
       "      <td>C1COCCO1.O</td>\n",
       "      <td>c1ccc([P](c2ccccc2)(c2ccccc2)[Pd]([P](c2ccccc2...</td>\n",
       "      <td>0.28</td>\n",
       "    </tr>\n",
       "    <tr>\n",
       "      <th>111</th>\n",
       "      <td>111</td>\n",
       "      <td>ord-e3950b01d3ad49e3a039c16486e0eb29</td>\n",
       "      <td>CC(C)(C)[O-].NC1CCOCC1.O=C(NCC(O)CN1CCc2ccccc2...</td>\n",
       "      <td>O=C(NCC(O)CN1CCc2ccccc2C1)c1cncc(NC2CCOCC2)c1</td>\n",
       "      <td>O=C(/C=C/c1ccccc1)/C=C/c1ccccc1.O=C(/C=C/c1ccc...</td>\n",
       "      <td>C1COCCO1</td>\n",
       "      <td>O=C(/C=C/c1ccccc1)/C=C/c1ccccc1.O=C(/C=C/c1ccc...</td>\n",
       "      <td>0.24</td>\n",
       "    </tr>\n",
       "  </tbody>\n",
       "</table>\n",
       "<p>112 rows × 8 columns</p>\n",
       "</div>"
      ],
      "text/plain": [
       "     Unnamed: 0                                    id  \\\n",
       "0             0  ord-c2af606677024e008e8fb05d402e9b3b   \n",
       "1             1  ord-96c71ebfff6c4ee8bb6a5aa2960c2ba3   \n",
       "2             2  ord-6e64400b2c7a4e9a8789b9e79cfcee25   \n",
       "3             3  ord-b77f09a6bfcb449c8320355cea96234a   \n",
       "4             4  ord-a78f05158222489f8516262e16c2e1d4   \n",
       "..          ...                                   ...   \n",
       "107         107  ord-3cac9ca75bf34bae9d8605b4ace7a1c5   \n",
       "108         108  ord-b146ca9198c348cca63bcac068757137   \n",
       "109         109  ord-50c61014210e4234b91331351ce47941   \n",
       "110         110  ord-f252f2d4246c4459989daae36b6c6aae   \n",
       "111         111  ord-e3950b01d3ad49e3a039c16486e0eb29   \n",
       "\n",
       "                                              REACTANT  \\\n",
       "0    B1C2CCCC1CCC2.C=CC1CCN(C(=O)OC(C)(C)C)C1.ClCCl...   \n",
       "1                         Brc1cncc(I)c1.C#C[Si](C)(C)C   \n",
       "2    Brc1ccc(-c2nc3ccccc3o2)nc1.CC1(C)OB(c2ccc(-c3c...   \n",
       "3    Brc1ccc2ncccc2c1.Cc1ccc2c(cnn2C2CCCCO2)c1[B-](...   \n",
       "4    CC=CCOc1ccc(Cl)cc1I.CCCC[NH3+].O=C([O-])[O-].O...   \n",
       "..                                                 ...   \n",
       "107  CC(C)(C)[O-].CC(C)N1CCNCC1.COc1cc(Br)cc(C2OCCC...   \n",
       "108                  COCOc1cc(OC)ccc1I.O=C1CCC(=O)N1Br   \n",
       "109                                 CCOCOCC.OCC(Cl)CCl   \n",
       "110  CC1(C)OB(c2ccnc(N3CCOCC3)c2)OC1(C)C.Cc1nc(NC(=...   \n",
       "111  CC(C)(C)[O-].NC1CCOCC1.O=C(NCC(O)CN1CCc2ccccc2...   \n",
       "\n",
       "                                               PRODUCT  \\\n",
       "0       CC(C)(C)OC(=O)N1CCC(CCc2ccc3c(c2)OC(F)(F)O3)C1   \n",
       "1                           C[Si](C)(C)C#Cc1cncc(Br)c1   \n",
       "2    c1ccc(N(c2ccccc2)c2ccc(-c3ccc(-c4ccc(-c5nc6ccc...   \n",
       "3              Cc1ccc2c(cnn2C2CCCCO2)c1-c1ccc2ncccc2c1   \n",
       "4                                  CCc1coc2ccc(Cl)cc12   \n",
       "..                                                 ...   \n",
       "107                   COc1cc(C=O)cc(N2CCN(C(C)C)CC2)c1   \n",
       "108                              COCOc1cc(OC)c(Br)cc1I   \n",
       "109                                     CCOCOCC(Cl)CCl   \n",
       "110  Cc1nc(NC(=O)NC(=O)C(C)C)ccc1Oc1ccnc(-c2ccnc(N3...   \n",
       "111      O=C(NCC(O)CN1CCc2ccccc2C1)c1cncc(NC2CCOCC2)c1   \n",
       "\n",
       "                                               REAGENT  \\\n",
       "0    Cl[Pd]Cl.[Fe+2].c1ccc(P(c2ccccc2)[c-]2cccc2)cc...   \n",
       "1    Cl[Pd](Cl)([P](c1ccccc1)(c1ccccc1)c1ccccc1)[P]...   \n",
       "2    c1ccc([P](c2ccccc2)(c2ccccc2)[Pd]([P](c2ccccc2...   \n",
       "3    C1CCC(P(C2CCCCC2)C2CCCCC2)CC1.CC(=O)[O-].CC(=O...   \n",
       "4                         CC(=O)[O-].CC(=O)[O-].[Pd+2]   \n",
       "..                                                 ...   \n",
       "107  O=C(/C=C/c1ccccc1)/C=C/c1ccccc1.O=C(/C=C/c1ccc...   \n",
       "108                     Cc1c(C(C)(C)C)cc(O)cc1C(C)(C)C   \n",
       "109                              Cc1ccccc1S(=O)(=O)O.O   \n",
       "110  c1ccc([P](c2ccccc2)(c2ccccc2)[Pd]([P](c2ccccc2...   \n",
       "111  O=C(/C=C/c1ccccc1)/C=C/c1ccccc1.O=C(/C=C/c1ccc...   \n",
       "\n",
       "                                               SOLVENT  \\\n",
       "0                                         CN(C)C=O.O.O   \n",
       "1                                       CC#N.CCN(CC)CC   \n",
       "2                          C1CCOC1.CC(C)=O.ClCCl.ClCCl   \n",
       "3    C1CCOC1.CC#N.CCc1cc(CC)cc(CC)c1.CCc1cccc(CC)c1...   \n",
       "4                                             CN(C)C=O   \n",
       "..                                                 ...   \n",
       "107                                          Cc1ccccc1   \n",
       "108                                               CC#N   \n",
       "109                                                NaN   \n",
       "110                                         C1COCCO1.O   \n",
       "111                                           C1COCCO1   \n",
       "\n",
       "                                              CATALYST  YIELD  \n",
       "0    Cl[Pd]Cl.[Fe+2].c1ccc(P(c2ccccc2)[c-]2cccc2)cc...   0.98  \n",
       "1    Cl[Pd](Cl)([P](c1ccccc1)(c1ccccc1)c1ccccc1)[P]...   0.99  \n",
       "2    c1ccc([P](c2ccccc2)(c2ccccc2)[Pd]([P](c2ccccc2...   0.77  \n",
       "3    C1CCC(P(C2CCCCC2)C2CCCCC2)CC1.CC(=O)[O-].CC(=O...   0.13  \n",
       "4                         CC(=O)[O-].CC(=O)[O-].[Pd+2]   0.60  \n",
       "..                                                 ...    ...  \n",
       "107  O=C(/C=C/c1ccccc1)/C=C/c1ccccc1.O=C(/C=C/c1ccc...   0.27  \n",
       "108                     Cc1c(C(C)(C)C)cc(O)cc1C(C)(C)C   0.76  \n",
       "109                              Cc1ccccc1S(=O)(=O)O.O   0.69  \n",
       "110  c1ccc([P](c2ccccc2)(c2ccccc2)[Pd]([P](c2ccccc2...   0.28  \n",
       "111  O=C(/C=C/c1ccccc1)/C=C/c1ccccc1.O=C(/C=C/c1ccc...   0.24  \n",
       "\n",
       "[112 rows x 8 columns]"
      ]
     },
     "execution_count": 1,
     "metadata": {},
     "output_type": "execute_result"
    }
   ],
   "source": [
    "import pandas as pd\n",
    "from rdkit import Chem\n",
    "\n",
    "df = pd.read_csv('/home/acf15718oa/ReactionT5_neword/data/demo_reaction_data.csv')\n",
    "df"
   ]
  },
  {
   "cell_type": "code",
   "execution_count": 21,
   "metadata": {},
   "outputs": [
    {
     "name": "stdout",
     "output_type": "stream",
     "text": [
      "Brc1ccc2ncccc2c1.Cc1ccc2c(cnn2C2CCCCO2)c1[B-](F)(F)F.[K+]\n"
     ]
    }
   ],
   "source": [
    "from rdkit import Chem\n",
    "from rdkit.Chem import Draw\n",
    "\n",
    "smiles = df['REACTANT'].values[3]\n",
    "print(smiles)\n",
    "mol = Chem.MolFromSmiles(smiles)\n",
    "img = Draw.MolToImage(mol)\n",
    "\n",
    "img.save(\"/home/acf15718oa/ReactionT5_neword/data/REACTANT.png\")"
   ]
  },
  {
   "cell_type": "code",
   "execution_count": 26,
   "metadata": {},
   "outputs": [
    {
     "data": {
      "text/plain": [
       "'Brc1ccc2ncccc2c1.Cc1'"
      ]
     },
     "execution_count": 26,
     "metadata": {},
     "output_type": "execute_result"
    }
   ],
   "source": [
    "\"Brc1ccc2ncccc2c1.Cc1ccc2c(cnn2C2CCCCO2)c1[B-](F)(F)F.[K+]\"[:20]"
   ]
  },
  {
   "cell_type": "code",
   "execution_count": 22,
   "metadata": {},
   "outputs": [
    {
     "name": "stdout",
     "output_type": "stream",
     "text": [
      "C1CCC(P(C2CCCCC2)C2CCCCC2)CC1.CC(=O)[O-].CC(=O)[O-].CCN(CC)CC.[Pd+2]\n"
     ]
    }
   ],
   "source": [
    "smiles = df['REAGENT'].values[3]\n",
    "print(smiles)\n",
    "mol = Chem.MolFromSmiles(smiles)\n",
    "img = Draw.MolToImage(mol)\n",
    "\n",
    "img.save(\"/home/acf15718oa/ReactionT5_neword/data/REAGENT.png\")"
   ]
  },
  {
   "cell_type": "code",
   "execution_count": 29,
   "metadata": {},
   "outputs": [
    {
     "data": {
      "text/plain": [
       "'C1CCC(P(C2CCCCC2)C2C'"
      ]
     },
     "execution_count": 29,
     "metadata": {},
     "output_type": "execute_result"
    }
   ],
   "source": [
    "\"C1CCC(P(C2CCCCC2)C2CCCCC2)CC1.CC(=O)[O-].CC(=O)[O-].CCN(CC)CC.[Pd+2]\"[:20]"
   ]
  },
  {
   "cell_type": "code",
   "execution_count": 23,
   "metadata": {},
   "outputs": [
    {
     "name": "stdout",
     "output_type": "stream",
     "text": [
      "C1CCOC1.CC#N.CCc1cc(CC)cc(CC)c1.CCc1cccc(CC)c1.CN(C)C=O.Cc1ccccc1.O\n"
     ]
    }
   ],
   "source": [
    "smiles = df['SOLVENT'].values[3]\n",
    "print(smiles)\n",
    "mol = Chem.MolFromSmiles(smiles)\n",
    "img = Draw.MolToImage(mol)\n",
    "\n",
    "img.save(\"/home/acf15718oa/ReactionT5_neword/data/SOLVENT.png\")"
   ]
  },
  {
   "cell_type": "code",
   "execution_count": 24,
   "metadata": {},
   "outputs": [
    {
     "name": "stdout",
     "output_type": "stream",
     "text": [
      "C1CCC(P(C2CCCCC2)C2CCCCC2)CC1.CC(=O)[O-].CC(=O)[O-].[Pd+2]\n"
     ]
    }
   ],
   "source": [
    "smiles = df['CATALYST'].values[3]\n",
    "print(smiles)\n",
    "mol = Chem.MolFromSmiles(smiles)\n",
    "img = Draw.MolToImage(mol)\n",
    "\n",
    "img.save(\"/home/acf15718oa/ReactionT5_neword/data/CATALYST.png\")"
   ]
  },
  {
   "cell_type": "code",
   "execution_count": 25,
   "metadata": {},
   "outputs": [
    {
     "name": "stdout",
     "output_type": "stream",
     "text": [
      "Cc1ccc2c(cnn2C2CCCCO2)c1-c1ccc2ncccc2c1\n"
     ]
    }
   ],
   "source": [
    "smiles = df['PRODUCT'].values[3]\n",
    "print(smiles)\n",
    "mol = Chem.MolFromSmiles(smiles)\n",
    "img = Draw.MolToImage(mol)\n",
    "\n",
    "img.save(\"/home/acf15718oa/ReactionT5_neword/data/PRODUCT.png\")"
   ]
  },
  {
   "cell_type": "code",
   "execution_count": 30,
   "metadata": {},
   "outputs": [
    {
     "data": {
      "text/plain": [
       "'Cc1ccc2c(cnn2C2CCCCO'"
      ]
     },
     "execution_count": 30,
     "metadata": {},
     "output_type": "execute_result"
    }
   ],
   "source": [
    "\"Cc1ccc2c(cnn2C2CCCCO2)c1-c1ccc2ncccc2c1\"[:20]"
   ]
  },
  {
   "cell_type": "code",
   "execution_count": null,
   "metadata": {},
   "outputs": [],
   "source": []
  },
  {
   "cell_type": "code",
   "execution_count": 31,
   "metadata": {},
   "outputs": [
    {
     "data": {
      "application/vnd.jupyter.widget-view+json": {
       "model_id": "5eb76390e8c44de288d3c152df3aab29",
       "version_major": 2,
       "version_minor": 0
      },
      "text/plain": [
       "Downloading readme:   0%|          | 0.00/744 [00:00<?, ?B/s]"
      ]
     },
     "metadata": {},
     "output_type": "display_data"
    },
    {
     "data": {
      "application/vnd.jupyter.widget-view+json": {
       "model_id": "0e87b6d382ad4da19c6a60e69074513a",
       "version_major": 2,
       "version_minor": 0
      },
      "text/plain": [
       "Downloading metadata:   0%|          | 0.00/786 [00:00<?, ?B/s]"
      ]
     },
     "metadata": {},
     "output_type": "display_data"
    },
    {
     "data": {
      "application/vnd.jupyter.widget-view+json": {
       "model_id": "66cc9ea1c6694969a61e8020ff5eb9c7",
       "version_major": 2,
       "version_minor": 0
      },
      "text/plain": [
       "Downloading data:   0%|          | 0.00/175M [00:00<?, ?B/s]"
      ]
     },
     "metadata": {},
     "output_type": "display_data"
    },
    {
     "data": {
      "application/vnd.jupyter.widget-view+json": {
       "model_id": "3da3365f7eb54e7486c7a16f01d41c2b",
       "version_major": 2,
       "version_minor": 0
      },
      "text/plain": [
       "Downloading data:   0%|          | 0.00/175M [00:00<?, ?B/s]"
      ]
     },
     "metadata": {},
     "output_type": "display_data"
    },
    {
     "data": {
      "application/vnd.jupyter.widget-view+json": {
       "model_id": "397b374b7e514653b13d98260d2f43da",
       "version_major": 2,
       "version_minor": 0
      },
      "text/plain": [
       "Downloading data:   0%|          | 0.00/175M [00:00<?, ?B/s]"
      ]
     },
     "metadata": {},
     "output_type": "display_data"
    },
    {
     "data": {
      "application/vnd.jupyter.widget-view+json": {
       "model_id": "145dda4551e04ad59f1f9587c673d76a",
       "version_major": 2,
       "version_minor": 0
      },
      "text/plain": [
       "Downloading data:   0%|          | 0.00/58.2M [00:00<?, ?B/s]"
      ]
     },
     "metadata": {},
     "output_type": "display_data"
    },
    {
     "data": {
      "application/vnd.jupyter.widget-view+json": {
       "model_id": "6bce724466a344af9d8d4a73d69a8402",
       "version_major": 2,
       "version_minor": 0
      },
      "text/plain": [
       "Generating train split:   0%|          | 0/20693269 [00:00<?, ? examples/s]"
      ]
     },
     "metadata": {},
     "output_type": "display_data"
    },
    {
     "data": {
      "application/vnd.jupyter.widget-view+json": {
       "model_id": "52772a774ac64b8badba3003639c7110",
       "version_major": 2,
       "version_minor": 0
      },
      "text/plain": [
       "Generating validation split:   0%|          | 0/2299253 [00:00<?, ? examples/s]"
      ]
     },
     "metadata": {},
     "output_type": "display_data"
    },
    {
     "data": {
      "text/plain": [
       "DatasetDict({\n",
       "    train: Dataset({\n",
       "        features: ['smiles'],\n",
       "        num_rows: 20693269\n",
       "    })\n",
       "    validation: Dataset({\n",
       "        features: ['smiles'],\n",
       "        num_rows: 2299253\n",
       "    })\n",
       "})"
      ]
     },
     "execution_count": 31,
     "metadata": {},
     "output_type": "execute_result"
    }
   ],
   "source": [
    "from datasets import load_dataset\n",
    "\n",
    "ds = load_dataset(\"sagawa/ZINC-canonicalized\")\n",
    "ds"
   ]
  },
  {
   "cell_type": "code",
   "execution_count": 39,
   "metadata": {},
   "outputs": [],
   "source": [
    "zinc_count = {}\n",
    "smiles = ds[\"train\"][\"smiles\"] + ds[\"validation\"][\"smiles\"]\n",
    "for text in smiles:\n",
    "    for character in list(text):\n",
    "        if character in zinc_count:\n",
    "            zinc_count[character] += 1\n",
    "        else:\n",
    "            zinc_count[character] = 1\n"
   ]
  },
  {
   "cell_type": "code",
   "execution_count": 52,
   "metadata": {},
   "outputs": [
    {
     "data": {
      "text/plain": [
       "array([1.13821683e-01, 8.50940276e+00, 8.50940276e+00, 8.91711180e-01,\n",
       "       5.24240039e-01, 3.88250605e-07, 6.57265567e-02, 6.45314709e+00,\n",
       "       4.31845218e+00, 1.60628079e+00, 3.08368043e-01, 2.71352231e-02,\n",
       "       1.12980926e-03, 3.41660533e-05, 2.13537833e-06, 1.94125303e-07,\n",
       "       2.80630643e+00, 3.04223022e+00, 1.00056452e-01, 1.96720431e+01,\n",
       "       7.12952157e-01, 2.99563422e+00, 6.41021162e-03, 3.85494007e+00,\n",
       "       4.47262610e+00, 1.16475182e-06, 3.93656704e-01, 3.26798707e+00,\n",
       "       1.60293145e-02, 3.26798707e+00, 2.02634615e+01, 3.47202422e-01,\n",
       "       2.71320695e+00, 2.74263042e-01, 4.46488196e-06, 1.00056452e-01,\n",
       "       3.64089867e-01])"
      ]
     },
     "execution_count": 52,
     "metadata": {},
     "output_type": "execute_result"
    }
   ],
   "source": [
    "np.array(list(zinc_count.values()))/sum(zinc_count.values())*100"
   ]
  },
  {
   "cell_type": "code",
   "execution_count": 62,
   "metadata": {},
   "outputs": [
    {
     "data": {
      "text/plain": [
       "<BarContainer object of 37 artists>"
      ]
     },
     "execution_count": 62,
     "metadata": {},
     "output_type": "execute_result"
    },
    {
     "data": {
      "image/png": "[encoded data removed]",
      "text/plain": [
       "<Figure size 1000x600 with 1 Axes>"
      ]
     },
     "metadata": {},
     "output_type": "display_data"
    }
   ],
   "source": [
    "import matplotlib.pyplot as plt\n",
    "import numpy as np\n",
    "zinc_count = dict(sorted(zinc_count.items()))\n",
    "fig, axes = plt.subplots(1, 1, figsize=(10, 6))\n",
    "plt.bar(zinc_count.keys(), np.array(list(zinc_count.values()))/sum(zinc_count.values())*100, alpha=0.7, edgecolor=\"grey\")"
   ]
  },
  {
   "cell_type": "code",
   "execution_count": 90,
   "metadata": {},
   "outputs": [
    {
     "data": {
      "text/plain": [
       "[Text(0, 0, '0'),\n",
       " Text(0, 5, '5'),\n",
       " Text(0, 10, '10'),\n",
       " Text(0, 15, '15'),\n",
       " Text(0, 20, '20')]"
      ]
     },
     "execution_count": 90,
     "metadata": {},
     "output_type": "execute_result"
    },
    {
     "data": {
      "image/png": "[encoded data removed]",
      "text/plain": [
       "<Figure size 2000x600 with 1 Axes>"
      ]
     },
     "metadata": {},
     "output_type": "display_data"
    }
   ],
   "source": [
    "import matplotlib.pyplot as plt\n",
    "import numpy as np\n",
    "zinc_count = dict(sorted(zinc_count.items()))\n",
    "fig, axes = plt.subplots(1, 1, figsize=(20, 6))\n",
    "plt.bar(zinc_count.keys(), np.array(list(zinc_count.values()))/sum(zinc_count.values())*100, alpha=0.7, edgecolor=\"grey\")\n",
    "axes.set_xticks(range(len(zinc_count)))\n",
    "axes.set_xticklabels(zinc_count.keys(), alpha=0, fontsize=0)\n",
    "axes.set_yticks(range(0, 22, 5))\n",
    "axes.set_yticklabels(range(0, 22, 5), alpha=0, fontsize=0)"
   ]
  },
  {
   "cell_type": "code",
   "execution_count": 77,
   "metadata": {},
   "outputs": [],
   "source": [
    "ord = pd.concat([pd.read_csv(f\"/home/acf15718oa/ReactionT5_neword/data/all_ord_reaction_uniq_with_attr20240506_v3_{split}.csv\") for split in [\"train\", \"valid\", \"test\"]])"
   ]
  },
  {
   "cell_type": "code",
   "execution_count": 78,
   "metadata": {},
   "outputs": [
    {
     "data": {
      "text/html": [
       "<div>\n",
       "<style scoped>\n",
       "    .dataframe tbody tr th:only-of-type {\n",
       "        vertical-align: middle;\n",
       "    }\n",
       "\n",
       "    .dataframe tbody tr th {\n",
       "        vertical-align: top;\n",
       "    }\n",
       "\n",
       "    .dataframe thead th {\n",
       "        text-align: right;\n",
       "    }\n",
       "</style>\n",
       "<table border=\"1\" class=\"dataframe\">\n",
       "  <thead>\n",
       "    <tr style=\"text-align: right;\">\n",
       "      <th></th>\n",
       "      <th>id</th>\n",
       "      <th>CATALYST</th>\n",
       "      <th>REACTANT</th>\n",
       "      <th>REAGENT</th>\n",
       "      <th>SOLVENT</th>\n",
       "      <th>INTERNAL_STANDARD</th>\n",
       "      <th>NoData</th>\n",
       "      <th>PRODUCT</th>\n",
       "      <th>YIELD</th>\n",
       "      <th>TEMP</th>\n",
       "    </tr>\n",
       "  </thead>\n",
       "  <tbody>\n",
       "    <tr>\n",
       "      <th>0</th>\n",
       "      <td>ord-b45f2eddde7844199a0384f3f9ed9b3e</td>\n",
       "      <td>NaN</td>\n",
       "      <td>C(=NC1CCCCC1)=NC1CCCCC1.CC(C)(C)OC(=O)CO/N=C(\\...</td>\n",
       "      <td>NaN</td>\n",
       "      <td>CC(=O)N(C)C.CC(=O)N(C)C.O</td>\n",
       "      <td>NaN</td>\n",
       "      <td>NaN</td>\n",
       "      <td>CC(C)(C)OC(=O)CO/N=C(\\C(=O)N[C@@H]1C(=O)N2C(C(...</td>\n",
       "      <td>83.0</td>\n",
       "      <td>NaN</td>\n",
       "    </tr>\n",
       "    <tr>\n",
       "      <th>1</th>\n",
       "      <td>ord-c7e5a1f8ae464c78babc02d43cb78f73</td>\n",
       "      <td>NaN</td>\n",
       "      <td>CC(C)OC(=O)N=NC(=O)OC(C)C.CCCCC[C@H](O)c1ccc(C...</td>\n",
       "      <td>NaN</td>\n",
       "      <td>C1CCOC1</td>\n",
       "      <td>NaN</td>\n",
       "      <td>NaN</td>\n",
       "      <td>CCCCC[C@@H](OC(=O)c1ccc([N+](=O)[O-])cc1)c1ccc...</td>\n",
       "      <td>63.0</td>\n",
       "      <td>NaN</td>\n",
       "    </tr>\n",
       "    <tr>\n",
       "      <th>2</th>\n",
       "      <td>ord-77314c6f17694a36aebf35c12cd3211a</td>\n",
       "      <td>NaN</td>\n",
       "      <td>CC(CN1CCCC1)N1c2ccccc2Sc2ccc(C(N)=S)cc21.CCOC(...</td>\n",
       "      <td>NaN</td>\n",
       "      <td>NaN</td>\n",
       "      <td>NaN</td>\n",
       "      <td>NaN</td>\n",
       "      <td>CC(CN1CCCC1)N1c2ccccc2Sc2ccc(C3=NC4CCCCC4N3)cc21</td>\n",
       "      <td>NaN</td>\n",
       "      <td>NaN</td>\n",
       "    </tr>\n",
       "    <tr>\n",
       "      <th>3</th>\n",
       "      <td>ord-60c8bc2894e14e68bad70a37f7315f8b</td>\n",
       "      <td>NaN</td>\n",
       "      <td>CC(C)(C)OC(=O)N(C(=O)[C@@H]1C[C@H](F)CN1)C(C)(...</td>\n",
       "      <td>NaN</td>\n",
       "      <td>NaN</td>\n",
       "      <td>NaN</td>\n",
       "      <td>NaN</td>\n",
       "      <td>CC(C)(C)NC(=O)[C@@H]1C[C@H](F)CN1C(=O)[C@@H](O...</td>\n",
       "      <td>NaN</td>\n",
       "      <td>NaN</td>\n",
       "    </tr>\n",
       "    <tr>\n",
       "      <th>4</th>\n",
       "      <td>ord-164f0514fbfe45bf82e47f63642b75a0</td>\n",
       "      <td>NaN</td>\n",
       "      <td>CCC=CCCc1cc(Cl)cc(C(=O)OC)c1O</td>\n",
       "      <td>NaN</td>\n",
       "      <td>O=C(O)C(F)(F)F</td>\n",
       "      <td>NaN</td>\n",
       "      <td>NaN</td>\n",
       "      <td>COC(=O)c1cc(Cl)cc2c1O[C@@H]1CCCC[C@@H]21</td>\n",
       "      <td>NaN</td>\n",
       "      <td>70.0</td>\n",
       "    </tr>\n",
       "    <tr>\n",
       "      <th>...</th>\n",
       "      <td>...</td>\n",
       "      <td>...</td>\n",
       "      <td>...</td>\n",
       "      <td>...</td>\n",
       "      <td>...</td>\n",
       "      <td>...</td>\n",
       "      <td>...</td>\n",
       "      <td>...</td>\n",
       "      <td>...</td>\n",
       "      <td>...</td>\n",
       "    </tr>\n",
       "    <tr>\n",
       "      <th>227434</th>\n",
       "      <td>ord-2889af2d79d44981b3deff1cb0e380a9</td>\n",
       "      <td>NaN</td>\n",
       "      <td>CC(C)(C)OC(=O)Nc1cncc(C(=O)N2CCC(c3cccc(CN(C(=...</td>\n",
       "      <td>NaN</td>\n",
       "      <td>NaN</td>\n",
       "      <td>NaN</td>\n",
       "      <td>NaN</td>\n",
       "      <td>CC(C)(C)OC(=O)N(Cc1cccc(C2CCN(C(=O)c3cncc(N(Cc...</td>\n",
       "      <td>NaN</td>\n",
       "      <td>NaN</td>\n",
       "    </tr>\n",
       "    <tr>\n",
       "      <th>227435</th>\n",
       "      <td>ord-198a46ae7f114510a733a320a69456d1</td>\n",
       "      <td>NaN</td>\n",
       "      <td>B.CSC.O=C(O)COCCc1ccc(Br)cc1</td>\n",
       "      <td>NaN</td>\n",
       "      <td>C1CCOC1</td>\n",
       "      <td>NaN</td>\n",
       "      <td>NaN</td>\n",
       "      <td>OCCOCCc1ccc(Br)cc1</td>\n",
       "      <td>81.0</td>\n",
       "      <td>NaN</td>\n",
       "    </tr>\n",
       "    <tr>\n",
       "      <th>227436</th>\n",
       "      <td>ord-8e5916d7de784c3580826d326212eea6</td>\n",
       "      <td>NaN</td>\n",
       "      <td>C#CCN1CCCC1.COc1ccc(Nc2ncc3c(n2)-c2ccc(I)cc2NC...</td>\n",
       "      <td>NaN</td>\n",
       "      <td>NaN</td>\n",
       "      <td>NaN</td>\n",
       "      <td>NaN</td>\n",
       "      <td>COc1ccc(Nc2ncc3c(n2)-c2ccc(C#CCN4CCCC4)cc2NC(=...</td>\n",
       "      <td>NaN</td>\n",
       "      <td>NaN</td>\n",
       "    </tr>\n",
       "    <tr>\n",
       "      <th>227437</th>\n",
       "      <td>ord-66932398dee34023ace480a221417349</td>\n",
       "      <td>NaN</td>\n",
       "      <td>C1CCOC1.CO.Cc1cn(-c2ccc([N+](=O)[O-])cc2F)cn1....</td>\n",
       "      <td>NaN</td>\n",
       "      <td>NaN</td>\n",
       "      <td>NaN</td>\n",
       "      <td>NaN</td>\n",
       "      <td>Cc1cn(-c2ccc(N)cc2F)cn1</td>\n",
       "      <td>NaN</td>\n",
       "      <td>NaN</td>\n",
       "    </tr>\n",
       "    <tr>\n",
       "      <th>227438</th>\n",
       "      <td>ord-16c33f0d5ce6487186a8cd44d8b455ac</td>\n",
       "      <td>NaN</td>\n",
       "      <td>CC1(c2ccc(O)c(N)c2)OCCO1.CON.Cl.O=C([O-])[O-]....</td>\n",
       "      <td>NaN</td>\n",
       "      <td>CCO</td>\n",
       "      <td>NaN</td>\n",
       "      <td>NaN</td>\n",
       "      <td>CON=C(C)c1ccc(O)c(N)c1</td>\n",
       "      <td>NaN</td>\n",
       "      <td>NaN</td>\n",
       "    </tr>\n",
       "  </tbody>\n",
       "</table>\n",
       "<p>2274399 rows × 10 columns</p>\n",
       "</div>"
      ],
      "text/plain": [
       "                                          id CATALYST  \\\n",
       "0       ord-b45f2eddde7844199a0384f3f9ed9b3e      NaN   \n",
       "1       ord-c7e5a1f8ae464c78babc02d43cb78f73      NaN   \n",
       "2       ord-77314c6f17694a36aebf35c12cd3211a      NaN   \n",
       "3       ord-60c8bc2894e14e68bad70a37f7315f8b      NaN   \n",
       "4       ord-164f0514fbfe45bf82e47f63642b75a0      NaN   \n",
       "...                                      ...      ...   \n",
       "227434  ord-2889af2d79d44981b3deff1cb0e380a9      NaN   \n",
       "227435  ord-198a46ae7f114510a733a320a69456d1      NaN   \n",
       "227436  ord-8e5916d7de784c3580826d326212eea6      NaN   \n",
       "227437  ord-66932398dee34023ace480a221417349      NaN   \n",
       "227438  ord-16c33f0d5ce6487186a8cd44d8b455ac      NaN   \n",
       "\n",
       "                                                 REACTANT REAGENT  \\\n",
       "0       C(=NC1CCCCC1)=NC1CCCCC1.CC(C)(C)OC(=O)CO/N=C(\\...     NaN   \n",
       "1       CC(C)OC(=O)N=NC(=O)OC(C)C.CCCCC[C@H](O)c1ccc(C...     NaN   \n",
       "2       CC(CN1CCCC1)N1c2ccccc2Sc2ccc(C(N)=S)cc21.CCOC(...     NaN   \n",
       "3       CC(C)(C)OC(=O)N(C(=O)[C@@H]1C[C@H](F)CN1)C(C)(...     NaN   \n",
       "4                           CCC=CCCc1cc(Cl)cc(C(=O)OC)c1O     NaN   \n",
       "...                                                   ...     ...   \n",
       "227434  CC(C)(C)OC(=O)Nc1cncc(C(=O)N2CCC(c3cccc(CN(C(=...     NaN   \n",
       "227435                       B.CSC.O=C(O)COCCc1ccc(Br)cc1     NaN   \n",
       "227436  C#CCN1CCCC1.COc1ccc(Nc2ncc3c(n2)-c2ccc(I)cc2NC...     NaN   \n",
       "227437  C1CCOC1.CO.Cc1cn(-c2ccc([N+](=O)[O-])cc2F)cn1....     NaN   \n",
       "227438  CC1(c2ccc(O)c(N)c2)OCCO1.CON.Cl.O=C([O-])[O-]....     NaN   \n",
       "\n",
       "                          SOLVENT INTERNAL_STANDARD NoData  \\\n",
       "0       CC(=O)N(C)C.CC(=O)N(C)C.O               NaN    NaN   \n",
       "1                         C1CCOC1               NaN    NaN   \n",
       "2                             NaN               NaN    NaN   \n",
       "3                             NaN               NaN    NaN   \n",
       "4                  O=C(O)C(F)(F)F               NaN    NaN   \n",
       "...                           ...               ...    ...   \n",
       "227434                        NaN               NaN    NaN   \n",
       "227435                    C1CCOC1               NaN    NaN   \n",
       "227436                        NaN               NaN    NaN   \n",
       "227437                        NaN               NaN    NaN   \n",
       "227438                        CCO               NaN    NaN   \n",
       "\n",
       "                                                  PRODUCT  YIELD  TEMP  \n",
       "0       CC(C)(C)OC(=O)CO/N=C(\\C(=O)N[C@@H]1C(=O)N2C(C(...   83.0   NaN  \n",
       "1       CCCCC[C@@H](OC(=O)c1ccc([N+](=O)[O-])cc1)c1ccc...   63.0   NaN  \n",
       "2        CC(CN1CCCC1)N1c2ccccc2Sc2ccc(C3=NC4CCCCC4N3)cc21    NaN   NaN  \n",
       "3       CC(C)(C)NC(=O)[C@@H]1C[C@H](F)CN1C(=O)[C@@H](O...    NaN   NaN  \n",
       "4                COC(=O)c1cc(Cl)cc2c1O[C@@H]1CCCC[C@@H]21    NaN  70.0  \n",
       "...                                                   ...    ...   ...  \n",
       "227434  CC(C)(C)OC(=O)N(Cc1cccc(C2CCN(C(=O)c3cncc(N(Cc...    NaN   NaN  \n",
       "227435                                 OCCOCCc1ccc(Br)cc1   81.0   NaN  \n",
       "227436  COc1ccc(Nc2ncc3c(n2)-c2ccc(C#CCN4CCCC4)cc2NC(=...    NaN   NaN  \n",
       "227437                            Cc1cn(-c2ccc(N)cc2F)cn1    NaN   NaN  \n",
       "227438                             CON=C(C)c1ccc(O)c(N)c1    NaN   NaN  \n",
       "\n",
       "[2274399 rows x 10 columns]"
      ]
     },
     "execution_count": 78,
     "metadata": {},
     "output_type": "execute_result"
    }
   ],
   "source": [
    "ord"
   ]
  },
  {
   "cell_type": "code",
   "execution_count": 85,
   "metadata": {},
   "outputs": [],
   "source": [
    "ord_count = {}\n",
    "smiles = ord[\"CATALYST\"].to_list() + ord[\"REACTANT\"].to_list() + ord[\"REACTANT\"].to_list() + ord[\"REAGENT\"].to_list() + ord[\"SOLVENT\"].to_list() + ord[\"PRODUCT\"].to_list()\n",
    "for text in smiles:\n",
    "    if isinstance(text, str):\n",
    "        for character in list(text):\n",
    "            if character in ord_count:\n",
    "                ord_count[character] += 1\n",
    "            else:\n",
    "                ord_count[character] = 1\n"
   ]
  },
  {
   "cell_type": "code",
   "execution_count": 86,
   "metadata": {},
   "outputs": [
    {
     "data": {
      "text/plain": [
       "<BarContainer object of 69 artists>"
      ]
     },
     "execution_count": 86,
     "metadata": {},
     "output_type": "execute_result"
    },
    {
     "data": {
      "image/png": "[encoded data removed]",
      "text/plain": [
       "<Figure size 1000x600 with 1 Axes>"
      ]
     },
     "metadata": {},
     "output_type": "display_data"
    }
   ],
   "source": [
    "import matplotlib.pyplot as plt\n",
    "import numpy as np\n",
    "ord_count = dict(sorted(ord_count.items()))\n",
    "fig, axes = plt.subplots(1, 1, figsize=(10, 6))\n",
    "plt.bar(ord_count.keys(), np.array(list(ord_count.values()))/sum(ord_count.values())*100, alpha=0.7, edgecolor=\"grey\")"
   ]
  },
  {
   "cell_type": "code",
   "execution_count": 91,
   "metadata": {},
   "outputs": [
    {
     "data": {
      "text/plain": [
       "[Text(0, 0, '0'),\n",
       " Text(0, 5, '5'),\n",
       " Text(0, 10, '10'),\n",
       " Text(0, 15, '15'),\n",
       " Text(0, 20, '20')]"
      ]
     },
     "execution_count": 91,
     "metadata": {},
     "output_type": "execute_result"
    },
    {
     "data": {
      "image/png": "[encoded data removed]",
      "text/plain": [
       "<Figure size 2000x600 with 1 Axes>"
      ]
     },
     "metadata": {},
     "output_type": "display_data"
    }
   ],
   "source": [
    "import matplotlib.pyplot as plt\n",
    "import numpy as np\n",
    "ord_count = dict(sorted(ord_count.items()))\n",
    "fig, axes = plt.subplots(1, 1, figsize=(20, 6))\n",
    "plt.bar(ord_count.keys(), np.array(list(ord_count.values()))/sum(ord_count.values())*100, alpha=0.7, edgecolor=\"grey\")\n",
    "axes.set_xticks(range(len(ord_count)))\n",
    "axes.set_xticklabels(ord_count.keys(), alpha=0, fontsize=0)\n",
    "axes.set_yticks(range(0, 22, 5))\n",
    "axes.set_yticklabels(range(0, 22, 5), alpha=0, fontsize=0)"
   ]
  },
  {
   "cell_type": "code",
   "execution_count": null,
   "metadata": {},
   "outputs": [],
   "source": []
  }
 ],
 "metadata": {
  "kernelspec": {
   "display_name": "reaction_aug",
   "language": "python",
   "name": "python3"
  },
  "language_info": {
   "codemirror_mode": {
    "name": "ipython",
    "version": 3
   },
   "file_extension": ".py",
   "mimetype": "text/x-python",
   "name": "python",
   "nbconvert_exporter": "python",
   "pygments_lexer": "ipython3",
   "version": "3.11.8"
  }
 },
 "nbformat": 4,
 "nbformat_minor": 2
}
