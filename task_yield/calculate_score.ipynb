{
 "cells": [
  {
   "cell_type": "code",
   "execution_count": 1,
   "id": "776ec7b5",
   "metadata": {},
   "outputs": [
    {
     "name": "stdout",
     "output_type": "stream",
     "text": [
      "r2_score: 0.8452825634875514\n",
      "rmse: 10.72367387452596\n",
      "accuracy: 0.7438752783964365\n"
     ]
    },
    {
     "name": "stderr",
     "output_type": "stream",
     "text": [
      "/home/acf15718oa/reactiont5/lib/python3.11/site-packages/sklearn/metrics/_regression.py:483: FutureWarning: 'squared' is deprecated in version 1.4 and will be removed in 1.6. To calculate the root mean squared error, use the function'root_mean_squared_error'.\n",
      "  warnings.warn(\n"
     ]
    }
   ],
   "source": [
    "import pandas as pd\n",
    "import numpy as np\n",
    "from sklearn.metrics import mean_squared_error, r2_score\n",
    "df = pd.read_csv('/home/acf15718oa/ReactionT5_neword/task_yield/finetune_test1_sample10/yield_prediction_output.csv')\n",
    "df['YIELD'] = df['YIELD'] * 100\n",
    "print('r2_score:',r2_score(df['YIELD'], df['prediction']))\n",
    "print('rmse:',mean_squared_error(df['YIELD'], df['prediction'], squared=False))\n",
    "print('accuracy:', sum(abs(df['YIELD'] - df['prediction']) <= 10)/len(df))"
   ]
  },
  {
   "cell_type": "code",
   "execution_count": 2,
   "id": "ca46cb4c",
   "metadata": {},
   "outputs": [
    {
     "name": "stdout",
     "output_type": "stream",
     "text": [
      "10\n",
      "r2_score: 0.8452825634875514\n",
      "rmse: 10.72367387452596\n",
      "accuracy: 0.7438752783964365\n",
      "30\n",
      "r2_score: 0.8031591928885118\n",
      "rmse: 12.095714735304663\n",
      "accuracy: 0.6570155902004454\n",
      "50\n",
      "r2_score: 0.8353853427667512\n",
      "rmse: 11.061352139354614\n",
      "accuracy: 0.7293986636971047\n",
      "100\n",
      "r2_score: 0.8619785639304861\n",
      "rmse: 10.128549111149688\n",
      "accuracy: 0.7706013363028953\n",
      "200\n",
      "r2_score: 0.8356363799354671\n",
      "rmse: 11.052914646496578\n",
      "accuracy: 0.7516703786191536\n",
      "0.8362884086017536\n",
      "0.019181577130062268\n"
     ]
    },
    {
     "name": "stderr",
     "output_type": "stream",
     "text": [
      "/home/acf15718oa/reactiont5/lib/python3.11/site-packages/sklearn/metrics/_regression.py:483: FutureWarning: 'squared' is deprecated in version 1.4 and will be removed in 1.6. To calculate the root mean squared error, use the function'root_mean_squared_error'.\n",
      "  warnings.warn(\n",
      "/home/acf15718oa/reactiont5/lib/python3.11/site-packages/sklearn/metrics/_regression.py:483: FutureWarning: 'squared' is deprecated in version 1.4 and will be removed in 1.6. To calculate the root mean squared error, use the function'root_mean_squared_error'.\n",
      "  warnings.warn(\n",
      "/home/acf15718oa/reactiont5/lib/python3.11/site-packages/sklearn/metrics/_regression.py:483: FutureWarning: 'squared' is deprecated in version 1.4 and will be removed in 1.6. To calculate the root mean squared error, use the function'root_mean_squared_error'.\n",
      "  warnings.warn(\n",
      "/home/acf15718oa/reactiont5/lib/python3.11/site-packages/sklearn/metrics/_regression.py:483: FutureWarning: 'squared' is deprecated in version 1.4 and will be removed in 1.6. To calculate the root mean squared error, use the function'root_mean_squared_error'.\n",
      "  warnings.warn(\n",
      "/home/acf15718oa/reactiont5/lib/python3.11/site-packages/sklearn/metrics/_regression.py:483: FutureWarning: 'squared' is deprecated in version 1.4 and will be removed in 1.6. To calculate the root mean squared error, use the function'root_mean_squared_error'.\n",
      "  warnings.warn(\n"
     ]
    }
   ],
   "source": [
    "r2s = []\n",
    "for sample_num in [10, 30, 50, 100, 200]:\n",
    "    print(sample_num)\n",
    "    df = pd.read_csv(f'/home/acf15718oa/ReactionT5_neword/task_yield/finetune_test1_sample{sample_num}/yield_prediction_output.csv')\n",
    "    df['YIELD'] = df['YIELD'] * 100\n",
    "    print('r2_score:',r2_score(df['YIELD'], df['prediction']))\n",
    "    print('rmse:',mean_squared_error(df['YIELD'], df['prediction'], squared=False))\n",
    "    print('accuracy:', sum(abs(df['YIELD'] - df['prediction']) <= 10)/len(df))\n",
    "    r2s.append(r2_score(df['YIELD'], df['prediction']))\n",
    "print(np.mean(r2s))\n",
    "print(np.std(r2s))"
   ]
  },
  {
   "cell_type": "code",
   "execution_count": 5,
   "id": "4b6659a5",
   "metadata": {},
   "outputs": [
    {
     "name": "stdout",
     "output_type": "stream",
     "text": [
      "1\n",
      "r2_score: 0.8721279813648368\n",
      "rmse: 9.749037208245777\n",
      "accuracy: 0.7973273942093542\n",
      "2\n",
      "r2_score: 0.9165692590027927\n",
      "rmse: 7.825048780630344\n",
      "accuracy: 0.8111111111111111\n",
      "3\n",
      "r2_score: 0.8107181467363809\n",
      "rmse: 12.223449229672934\n",
      "accuracy: 0.725752508361204\n",
      "4\n",
      "r2_score: 0.8303211125943296\n",
      "rmse: 10.89472263619842\n",
      "accuracy: 0.7366666666666667\n",
      "0.857434124924585\n",
      "0.04071354674809013\n"
     ]
    },
    {
     "name": "stderr",
     "output_type": "stream",
     "text": [
      "/home/acf15718oa/reactiont5/lib/python3.11/site-packages/sklearn/metrics/_regression.py:483: FutureWarning: 'squared' is deprecated in version 1.4 and will be removed in 1.6. To calculate the root mean squared error, use the function'root_mean_squared_error'.\n",
      "  warnings.warn(\n",
      "/home/acf15718oa/reactiont5/lib/python3.11/site-packages/sklearn/metrics/_regression.py:483: FutureWarning: 'squared' is deprecated in version 1.4 and will be removed in 1.6. To calculate the root mean squared error, use the function'root_mean_squared_error'.\n",
      "  warnings.warn(\n",
      "/home/acf15718oa/reactiont5/lib/python3.11/site-packages/sklearn/metrics/_regression.py:483: FutureWarning: 'squared' is deprecated in version 1.4 and will be removed in 1.6. To calculate the root mean squared error, use the function'root_mean_squared_error'.\n",
      "  warnings.warn(\n",
      "/home/acf15718oa/reactiont5/lib/python3.11/site-packages/sklearn/metrics/_regression.py:483: FutureWarning: 'squared' is deprecated in version 1.4 and will be removed in 1.6. To calculate the root mean squared error, use the function'root_mean_squared_error'.\n",
      "  warnings.warn(\n"
     ]
    }
   ],
   "source": [
    "r2s = []\n",
    "for id in range(1, 5):\n",
    "    print(id)\n",
    "    df = pd.read_csv(f'/home/acf15718oa/ReactionT5_neword/yield_prediction/finetune_test{id}/yield_prediction_output.csv')\n",
    "    df['YIELD'] = df['YIELD'] * 100\n",
    "    print('r2_score:',r2_score(df['YIELD'], df['prediction']))\n",
    "    print('rmse:',mean_squared_error(df['YIELD'], df['prediction'], squared=False))\n",
    "    print('accuracy:', sum(abs(df['YIELD'] - df['prediction']) <= 10)/len(df))\n",
    "    r2s.append(r2_score(df['YIELD'], df['prediction']))\n",
    "print(np.mean(r2s))\n",
    "print(np.std(r2s))"
   ]
  },
  {
   "cell_type": "code",
   "execution_count": 7,
   "id": "2e80b80c",
   "metadata": {},
   "outputs": [
    {
     "name": "stdout",
     "output_type": "stream",
     "text": [
      "1\n",
      "r2_score: 0.8386420116043611\n",
      "rmse: 11.074180101781785\n",
      "accuracy: 0.7121212121212122\n",
      "2\n",
      "r2_score: 0.8019680268694835\n",
      "rmse: 11.903419885395913\n",
      "accuracy: 0.7095959595959596\n",
      "3\n",
      "r2_score: 0.8374867178651488\n",
      "rmse: 10.919118027775058\n",
      "accuracy: 0.6961279461279462\n",
      "4\n",
      "r2_score: 0.8255521966937973\n",
      "rmse: 11.337809450809496\n",
      "accuracy: 0.7087542087542088\n",
      "5\n",
      "r2_score: 0.8405768315126839\n",
      "rmse: 11.082213974201844\n",
      "accuracy: 0.7255892255892256\n",
      "6\n",
      "r2_score: 0.8205442852687341\n",
      "rmse: 11.496318251704558\n",
      "accuracy: 0.7037037037037037\n",
      "7\n",
      "r2_score: 0.8488190408986119\n",
      "rmse: 10.590168843721232\n",
      "accuracy: 0.7095959595959596\n",
      "8\n",
      "r2_score: 0.832041704658866\n",
      "rmse: 11.054158296586662\n",
      "accuracy: 0.7188552188552189\n",
      "9\n",
      "r2_score: 0.838146213848026\n",
      "rmse: 11.040204389052663\n",
      "accuracy: 0.7314814814814815\n",
      "10\n",
      "r2_score: 0.828611961245284\n",
      "rmse: 11.401468234398498\n",
      "accuracy: 0.7272727272727273\n",
      "0.8312388990464997\n",
      "0.012445293440315287\n"
     ]
    },
    {
     "name": "stderr",
     "output_type": "stream",
     "text": [
      "/home/acf15718oa/reactiont5/lib/python3.11/site-packages/sklearn/metrics/_regression.py:483: FutureWarning: 'squared' is deprecated in version 1.4 and will be removed in 1.6. To calculate the root mean squared error, use the function'root_mean_squared_error'.\n",
      "  warnings.warn(\n",
      "/home/acf15718oa/reactiont5/lib/python3.11/site-packages/sklearn/metrics/_regression.py:483: FutureWarning: 'squared' is deprecated in version 1.4 and will be removed in 1.6. To calculate the root mean squared error, use the function'root_mean_squared_error'.\n",
      "  warnings.warn(\n",
      "/home/acf15718oa/reactiont5/lib/python3.11/site-packages/sklearn/metrics/_regression.py:483: FutureWarning: 'squared' is deprecated in version 1.4 and will be removed in 1.6. To calculate the root mean squared error, use the function'root_mean_squared_error'.\n",
      "  warnings.warn(\n",
      "/home/acf15718oa/reactiont5/lib/python3.11/site-packages/sklearn/metrics/_regression.py:483: FutureWarning: 'squared' is deprecated in version 1.4 and will be removed in 1.6. To calculate the root mean squared error, use the function'root_mean_squared_error'.\n",
      "  warnings.warn(\n",
      "/home/acf15718oa/reactiont5/lib/python3.11/site-packages/sklearn/metrics/_regression.py:483: FutureWarning: 'squared' is deprecated in version 1.4 and will be removed in 1.6. To calculate the root mean squared error, use the function'root_mean_squared_error'.\n",
      "  warnings.warn(\n",
      "/home/acf15718oa/reactiont5/lib/python3.11/site-packages/sklearn/metrics/_regression.py:483: FutureWarning: 'squared' is deprecated in version 1.4 and will be removed in 1.6. To calculate the root mean squared error, use the function'root_mean_squared_error'.\n",
      "  warnings.warn(\n",
      "/home/acf15718oa/reactiont5/lib/python3.11/site-packages/sklearn/metrics/_regression.py:483: FutureWarning: 'squared' is deprecated in version 1.4 and will be removed in 1.6. To calculate the root mean squared error, use the function'root_mean_squared_error'.\n",
      "  warnings.warn(\n",
      "/home/acf15718oa/reactiont5/lib/python3.11/site-packages/sklearn/metrics/_regression.py:483: FutureWarning: 'squared' is deprecated in version 1.4 and will be removed in 1.6. To calculate the root mean squared error, use the function'root_mean_squared_error'.\n",
      "  warnings.warn(\n",
      "/home/acf15718oa/reactiont5/lib/python3.11/site-packages/sklearn/metrics/_regression.py:483: FutureWarning: 'squared' is deprecated in version 1.4 and will be removed in 1.6. To calculate the root mean squared error, use the function'root_mean_squared_error'.\n",
      "  warnings.warn(\n",
      "/home/acf15718oa/reactiont5/lib/python3.11/site-packages/sklearn/metrics/_regression.py:483: FutureWarning: 'squared' is deprecated in version 1.4 and will be removed in 1.6. To calculate the root mean squared error, use the function'root_mean_squared_error'.\n",
      "  warnings.warn(\n"
     ]
    }
   ],
   "source": [
    "r2s = []\n",
    "for id in range(1, 11):\n",
    "    print(id)\n",
    "    df = pd.read_csv(f'/home/acf15718oa/ReactionT5_neword/yield_prediction/random{id}_pred/yield_prediction_output.csv')\n",
    "    df['YIELD'] = df['YIELD'] * 100\n",
    "    print('r2_score:',r2_score(df['YIELD'], df['prediction']))\n",
    "    print('rmse:',mean_squared_error(df['YIELD'], df['prediction'], squared=False))\n",
    "    print('accuracy:', sum(abs(df['YIELD'] - df['prediction']) <= 10)/len(df))\n",
    "    r2s.append(r2_score(df['YIELD'], df['prediction']))\n",
    "print(np.mean(r2s))\n",
    "print(np.std(r2s))"
   ]
  }
 ],
 "metadata": {
  "kernelspec": {
   "display_name": "Python 3 (ipykernel)",
   "language": "python",
   "name": "python3"
  },
  "language_info": {
   "codemirror_mode": {
    "name": "ipython",
    "version": 3
   },
   "file_extension": ".py",
   "mimetype": "text/x-python",
   "name": "python",
   "nbconvert_exporter": "python",
   "pygments_lexer": "ipython3",
   "version": "3.11.9"
  }
 },
 "nbformat": 4,
 "nbformat_minor": 5
}
